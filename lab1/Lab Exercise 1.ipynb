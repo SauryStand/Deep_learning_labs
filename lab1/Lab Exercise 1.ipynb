{
 "cells": [
  {
   "cell_type": "code",
   "execution_count": 1,
   "metadata": {},
   "outputs": [],
   "source": [
    "%matplotlib inline\n",
    "import numpy as np\n",
    "import torch\n",
    "import matplotlib.pyplot as plt\n",
    "from typing import Tuple"
   ]
  },
  {
   "cell_type": "code",
   "execution_count": 2,
   "metadata": {},
   "outputs": [],
   "source": [
    "def sgd_factorise(A:torch.Tensor, rank:int, num_epochs=1000,\n",
    "                 lr=0.01) -> Tuple[torch.Tensor, torch.Tensor]:\n",
    "    U, V = torch.rand(A.shape[0], rank), torch.rand(A.shape[1], rank)\n",
    "    for i in range(num_epochs):\n",
    "        for r in range(A.shape[0]):\n",
    "            for c in range(A.shape[1]):\n",
    "                e = A[r][c] - (U[r,:] @ V[c,:].t())\n",
    "                U[r,:] = U[r,:] + lr * e * V[c,:]\n",
    "                V[c,:] = V[c,:] + lr * e *U[r,:]\n",
    "    return U,V"
   ]
  },
  {
   "cell_type": "code",
   "execution_count": 3,
   "metadata": {},
   "outputs": [],
   "source": [
    "A = torch.tensor([[0.3374, 0.6005, 0.1735],\n",
    "                  [3.3359, 0.0492, 1.8374],\n",
    "                  [2.9407, 0.5301, 2.2620]\n",
    "                 ])\n",
    "U,V = sgd_factorise(A, 2)"
   ]
  },
  {
   "cell_type": "code",
   "execution_count": 4,
   "metadata": {},
   "outputs": [],
   "source": [
    "recon_A = U @ V.t()"
   ]
  },
  {
   "cell_type": "code",
   "execution_count": 5,
   "metadata": {},
   "outputs": [
    {
     "name": "stdout",
     "output_type": "stream",
     "text": [
      "tensor(0.1221)\n"
     ]
    }
   ],
   "source": [
    "print(torch.nn.functional.mse_loss(recon_A, A, reduction='sum'))"
   ]
  },
  {
   "cell_type": "code",
   "execution_count": null,
   "metadata": {},
   "outputs": [],
   "source": []
  }
 ],
 "metadata": {
  "kernelspec": {
   "display_name": "Python 3",
   "language": "python",
   "name": "python3"
  },
  "language_info": {
   "codemirror_mode": {
    "name": "ipython",
    "version": 3
   },
   "file_extension": ".py",
   "mimetype": "text/x-python",
   "name": "python",
   "nbconvert_exporter": "python",
   "pygments_lexer": "ipython3",
   "version": "3.7.5"
  }
 },
 "nbformat": 4,
 "nbformat_minor": 2
}
