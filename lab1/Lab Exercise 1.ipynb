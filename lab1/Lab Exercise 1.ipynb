{
 "cells": [
  {
   "cell_type": "code",
   "execution_count": 1,
   "metadata": {},
   "outputs": [],
   "source": [
    "%matplotlib inline\n",
    "import numpy as np\n",
    "import torch\n",
    "import matplotlib.pyplot as plt\n",
    "from typing import Tuple"
   ]
  },
  {
   "cell_type": "code",
   "execution_count": 2,
   "metadata": {},
   "outputs": [],
   "source": [
    "def sgd_factorise(A:torch.Tensor, rank:int, num_epochs=1000,\n",
    "                 lr=0.01) -> Tuple[torch.Tensor, torch.Tensor]:\n",
    "    U, V = torch.rand(A.shape[0], rank), torch.rand(A.shape[1], rank)\n",
    "    for i in range(num_epochs):\n",
    "        for r in range(A.shape[0]):\n",
    "            for c in range(A.shape[1]):\n",
    "                e = A[r][c] - (U[r,:] @ V[c,:].t())\n",
    "                U[r,:] = U[r,:] + lr * e * V[c,:]\n",
    "                V[c,:] = V[c,:] + lr * e *U[r,:]\n",
    "    return U,V"
   ]
  },
  {
   "cell_type": "code",
   "execution_count": 3,
   "metadata": {},
   "outputs": [],
   "source": [
    "A = torch.tensor([[0.3374, 0.6005, 0.1735],\n",
    "                  [3.3359, 0.0492, 1.8374],\n",
    "                  [2.9407, 0.5301, 2.2620]\n",
    "                 ])\n",
    "U,V = sgd_factorise(A, 2)"
   ]
  },
  {
   "cell_type": "code",
   "execution_count": 4,
   "metadata": {},
   "outputs": [],
   "source": [
    "recon_A = U @ V.t()"
   ]
  },
  {
   "cell_type": "code",
   "execution_count": 5,
   "metadata": {},
   "outputs": [
    {
     "name": "stdout",
     "output_type": "stream",
     "text": [
      "tensor(0.1225)\n"
     ]
    }
   ],
   "source": [
    "print(torch.nn.functional.mse_loss(recon_A, A, reduction='sum'))"
   ]
  },
  {
   "cell_type": "code",
   "execution_count": 6,
   "metadata": {},
   "outputs": [
    {
     "data": {
      "text/plain": [
       "tensor([[ 0.2175,  0.4999,  0.3702],\n",
       "        [ 3.2599, -0.0145,  1.9622],\n",
       "        [ 3.0285,  0.6039,  2.1178]])"
      ]
     },
     "execution_count": 6,
     "metadata": {},
     "output_type": "execute_result"
    }
   ],
   "source": [
    "recon_A"
   ]
  },
  {
   "cell_type": "code",
   "execution_count": 7,
   "metadata": {},
   "outputs": [],
   "source": [
    "U1,S1,V1 = torch.svd(A)"
   ]
  },
  {
   "cell_type": "code",
   "execution_count": 10,
   "metadata": {},
   "outputs": [],
   "source": [
    "S1[-1] = 0\n",
    "recon_A_ = U1 @ torch.diag(S1) @ V1.t()"
   ]
  },
  {
   "cell_type": "code",
   "execution_count": 11,
   "metadata": {},
   "outputs": [
    {
     "data": {
      "text/plain": [
       "tensor([[ 0.2245,  0.5212,  0.3592],\n",
       "        [ 3.2530, -0.0090,  1.9737],\n",
       "        [ 3.0378,  0.5983,  2.1023]])"
      ]
     },
     "execution_count": 11,
     "metadata": {},
     "output_type": "execute_result"
    }
   ],
   "source": [
    "recon_A_"
   ]
  },
  {
   "cell_type": "code",
   "execution_count": 12,
   "metadata": {},
   "outputs": [
    {
     "name": "stdout",
     "output_type": "stream",
     "text": [
      "tensor(0.1219)\n"
     ]
    }
   ],
   "source": [
    "print(torch.nn.functional.mse_loss(recon_A_, A, reduction='sum'))"
   ]
  },
  {
   "cell_type": "code",
   "execution_count": null,
   "metadata": {},
   "outputs": [],
   "source": []
  }
 ],
 "metadata": {
  "kernelspec": {
   "display_name": "Python 3",
   "language": "python",
   "name": "python3"
  },
  "language_info": {
   "codemirror_mode": {
    "name": "ipython",
    "version": 3
   },
   "file_extension": ".py",
   "mimetype": "text/x-python",
   "name": "python",
   "nbconvert_exporter": "python",
   "pygments_lexer": "ipython3",
   "version": "3.7.5"
  }
 },
 "nbformat": 4,
 "nbformat_minor": 2
}
